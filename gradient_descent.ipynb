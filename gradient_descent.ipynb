{
 "cells": [
  {
   "cell_type": "code",
   "execution_count": 42,
   "id": "c8f250c3",
   "metadata": {},
   "outputs": [],
   "source": [
    "import math\n",
    "import numpy as np\n",
    "import pandas as pd\n",
    "import matplotlib.pyplot as plt"
   ]
  },
  {
   "cell_type": "code",
   "execution_count": 43,
   "id": "6d53c688",
   "metadata": {},
   "outputs": [],
   "source": [
    "path = \"insurance_data.csv\""
   ]
  },
  {
   "cell_type": "code",
   "execution_count": 44,
   "id": "bb1c7849",
   "metadata": {},
   "outputs": [
    {
     "data": {
      "text/html": [
       "<div>\n",
       "<style scoped>\n",
       "    .dataframe tbody tr th:only-of-type {\n",
       "        vertical-align: middle;\n",
       "    }\n",
       "\n",
       "    .dataframe tbody tr th {\n",
       "        vertical-align: top;\n",
       "    }\n",
       "\n",
       "    .dataframe thead th {\n",
       "        text-align: right;\n",
       "    }\n",
       "</style>\n",
       "<table border=\"1\" class=\"dataframe\">\n",
       "  <thead>\n",
       "    <tr style=\"text-align: right;\">\n",
       "      <th></th>\n",
       "      <th>age</th>\n",
       "      <th>affordibility</th>\n",
       "      <th>bought_insurance</th>\n",
       "    </tr>\n",
       "  </thead>\n",
       "  <tbody>\n",
       "    <tr>\n",
       "      <th>0</th>\n",
       "      <td>22</td>\n",
       "      <td>1</td>\n",
       "      <td>0</td>\n",
       "    </tr>\n",
       "    <tr>\n",
       "      <th>1</th>\n",
       "      <td>25</td>\n",
       "      <td>0</td>\n",
       "      <td>0</td>\n",
       "    </tr>\n",
       "    <tr>\n",
       "      <th>2</th>\n",
       "      <td>47</td>\n",
       "      <td>1</td>\n",
       "      <td>1</td>\n",
       "    </tr>\n",
       "    <tr>\n",
       "      <th>3</th>\n",
       "      <td>52</td>\n",
       "      <td>0</td>\n",
       "      <td>0</td>\n",
       "    </tr>\n",
       "    <tr>\n",
       "      <th>4</th>\n",
       "      <td>46</td>\n",
       "      <td>1</td>\n",
       "      <td>1</td>\n",
       "    </tr>\n",
       "  </tbody>\n",
       "</table>\n",
       "</div>"
      ],
      "text/plain": [
       "   age  affordibility  bought_insurance\n",
       "0   22              1                 0\n",
       "1   25              0                 0\n",
       "2   47              1                 1\n",
       "3   52              0                 0\n",
       "4   46              1                 1"
      ]
     },
     "execution_count": 44,
     "metadata": {},
     "output_type": "execute_result"
    }
   ],
   "source": [
    "data = pd.read_csv(path)\n",
    "data.head()"
   ]
  },
  {
   "cell_type": "code",
   "execution_count": 23,
   "id": "bf707e53",
   "metadata": {},
   "outputs": [],
   "source": [
    "# storing value which we are going to predict in y\n",
    "y = data[\"bought_insurance\"]\n",
    "# droping the feature brought_insurance\n",
    "X = data.drop(columns=[\"bought_insurance\"])"
   ]
  },
  {
   "cell_type": "code",
   "execution_count": 24,
   "id": "56fb122c",
   "metadata": {},
   "outputs": [],
   "source": [
    "#feature scaling\n",
    "X[\"age\"] = X[\"age\"]/100"
   ]
  },
  {
   "cell_type": "code",
   "execution_count": 25,
   "id": "dc6db582",
   "metadata": {
    "scrolled": true
   },
   "outputs": [
    {
     "data": {
      "text/html": [
       "<div>\n",
       "<style scoped>\n",
       "    .dataframe tbody tr th:only-of-type {\n",
       "        vertical-align: middle;\n",
       "    }\n",
       "\n",
       "    .dataframe tbody tr th {\n",
       "        vertical-align: top;\n",
       "    }\n",
       "\n",
       "    .dataframe thead th {\n",
       "        text-align: right;\n",
       "    }\n",
       "</style>\n",
       "<table border=\"1\" class=\"dataframe\">\n",
       "  <thead>\n",
       "    <tr style=\"text-align: right;\">\n",
       "      <th></th>\n",
       "      <th>age</th>\n",
       "      <th>affordibility</th>\n",
       "    </tr>\n",
       "  </thead>\n",
       "  <tbody>\n",
       "    <tr>\n",
       "      <th>0</th>\n",
       "      <td>0.22</td>\n",
       "      <td>1</td>\n",
       "    </tr>\n",
       "    <tr>\n",
       "      <th>1</th>\n",
       "      <td>0.25</td>\n",
       "      <td>0</td>\n",
       "    </tr>\n",
       "    <tr>\n",
       "      <th>2</th>\n",
       "      <td>0.47</td>\n",
       "      <td>1</td>\n",
       "    </tr>\n",
       "    <tr>\n",
       "      <th>3</th>\n",
       "      <td>0.52</td>\n",
       "      <td>0</td>\n",
       "    </tr>\n",
       "    <tr>\n",
       "      <th>4</th>\n",
       "      <td>0.46</td>\n",
       "      <td>1</td>\n",
       "    </tr>\n",
       "    <tr>\n",
       "      <th>5</th>\n",
       "      <td>0.56</td>\n",
       "      <td>1</td>\n",
       "    </tr>\n",
       "    <tr>\n",
       "      <th>6</th>\n",
       "      <td>0.55</td>\n",
       "      <td>0</td>\n",
       "    </tr>\n",
       "    <tr>\n",
       "      <th>7</th>\n",
       "      <td>0.60</td>\n",
       "      <td>0</td>\n",
       "    </tr>\n",
       "    <tr>\n",
       "      <th>8</th>\n",
       "      <td>0.62</td>\n",
       "      <td>1</td>\n",
       "    </tr>\n",
       "    <tr>\n",
       "      <th>9</th>\n",
       "      <td>0.61</td>\n",
       "      <td>1</td>\n",
       "    </tr>\n",
       "    <tr>\n",
       "      <th>10</th>\n",
       "      <td>0.18</td>\n",
       "      <td>1</td>\n",
       "    </tr>\n",
       "    <tr>\n",
       "      <th>11</th>\n",
       "      <td>0.28</td>\n",
       "      <td>1</td>\n",
       "    </tr>\n",
       "    <tr>\n",
       "      <th>12</th>\n",
       "      <td>0.27</td>\n",
       "      <td>0</td>\n",
       "    </tr>\n",
       "    <tr>\n",
       "      <th>13</th>\n",
       "      <td>0.29</td>\n",
       "      <td>0</td>\n",
       "    </tr>\n",
       "    <tr>\n",
       "      <th>14</th>\n",
       "      <td>0.49</td>\n",
       "      <td>1</td>\n",
       "    </tr>\n",
       "    <tr>\n",
       "      <th>15</th>\n",
       "      <td>0.55</td>\n",
       "      <td>1</td>\n",
       "    </tr>\n",
       "    <tr>\n",
       "      <th>16</th>\n",
       "      <td>0.25</td>\n",
       "      <td>0</td>\n",
       "    </tr>\n",
       "    <tr>\n",
       "      <th>17</th>\n",
       "      <td>0.58</td>\n",
       "      <td>1</td>\n",
       "    </tr>\n",
       "    <tr>\n",
       "      <th>18</th>\n",
       "      <td>0.19</td>\n",
       "      <td>0</td>\n",
       "    </tr>\n",
       "    <tr>\n",
       "      <th>19</th>\n",
       "      <td>0.18</td>\n",
       "      <td>1</td>\n",
       "    </tr>\n",
       "    <tr>\n",
       "      <th>20</th>\n",
       "      <td>0.21</td>\n",
       "      <td>1</td>\n",
       "    </tr>\n",
       "    <tr>\n",
       "      <th>21</th>\n",
       "      <td>0.26</td>\n",
       "      <td>0</td>\n",
       "    </tr>\n",
       "    <tr>\n",
       "      <th>22</th>\n",
       "      <td>0.40</td>\n",
       "      <td>1</td>\n",
       "    </tr>\n",
       "    <tr>\n",
       "      <th>23</th>\n",
       "      <td>0.45</td>\n",
       "      <td>1</td>\n",
       "    </tr>\n",
       "    <tr>\n",
       "      <th>24</th>\n",
       "      <td>0.50</td>\n",
       "      <td>1</td>\n",
       "    </tr>\n",
       "    <tr>\n",
       "      <th>25</th>\n",
       "      <td>0.54</td>\n",
       "      <td>1</td>\n",
       "    </tr>\n",
       "    <tr>\n",
       "      <th>26</th>\n",
       "      <td>0.23</td>\n",
       "      <td>1</td>\n",
       "    </tr>\n",
       "    <tr>\n",
       "      <th>27</th>\n",
       "      <td>0.46</td>\n",
       "      <td>1</td>\n",
       "    </tr>\n",
       "  </tbody>\n",
       "</table>\n",
       "</div>"
      ],
      "text/plain": [
       "     age  affordibility\n",
       "0   0.22              1\n",
       "1   0.25              0\n",
       "2   0.47              1\n",
       "3   0.52              0\n",
       "4   0.46              1\n",
       "5   0.56              1\n",
       "6   0.55              0\n",
       "7   0.60              0\n",
       "8   0.62              1\n",
       "9   0.61              1\n",
       "10  0.18              1\n",
       "11  0.28              1\n",
       "12  0.27              0\n",
       "13  0.29              0\n",
       "14  0.49              1\n",
       "15  0.55              1\n",
       "16  0.25              0\n",
       "17  0.58              1\n",
       "18  0.19              0\n",
       "19  0.18              1\n",
       "20  0.21              1\n",
       "21  0.26              0\n",
       "22  0.40              1\n",
       "23  0.45              1\n",
       "24  0.50              1\n",
       "25  0.54              1\n",
       "26  0.23              1\n",
       "27  0.46              1"
      ]
     },
     "execution_count": 25,
     "metadata": {},
     "output_type": "execute_result"
    }
   ],
   "source": [
    "X"
   ]
  },
  {
   "cell_type": "code",
   "execution_count": 26,
   "id": "765be9ae",
   "metadata": {},
   "outputs": [],
   "source": [
    "from sklearn.model_selection import train_test_split\n",
    "X_train, X_test, y_train, y_test = train_test_split(X,y,test_size=0.2, random_state=25)"
   ]
  },
  {
   "cell_type": "code",
   "execution_count": 27,
   "id": "1e5555ff",
   "metadata": {},
   "outputs": [
    {
     "data": {
      "text/plain": [
       "(22,)"
      ]
     },
     "execution_count": 27,
     "metadata": {},
     "output_type": "execute_result"
    }
   ],
   "source": [
    "y_train.shape"
   ]
  },
  {
   "cell_type": "code",
   "execution_count": 28,
   "id": "b2d59f3d",
   "metadata": {},
   "outputs": [],
   "source": [
    "#!pip install scikit-learn"
   ]
  },
  {
   "cell_type": "code",
   "execution_count": 29,
   "id": "c0ce183b",
   "metadata": {},
   "outputs": [],
   "source": [
    "def sigmoid(x):\n",
    "    return 1 / (1 +   np.exp(-x))"
   ]
  },
  {
   "cell_type": "code",
   "execution_count": 30,
   "id": "cd06a7fc",
   "metadata": {},
   "outputs": [
    {
     "data": {
      "text/plain": [
       "array([0.99999386, 0.5       , 0.73105858])"
      ]
     },
     "execution_count": 30,
     "metadata": {},
     "output_type": "execute_result"
    }
   ],
   "source": [
    "sigmoid(np.array([12,0,1]))"
   ]
  },
  {
   "cell_type": "code",
   "execution_count": 45,
   "id": "b94e43ad",
   "metadata": {},
   "outputs": [],
   "source": [
    "#w is initilize to one\n",
    "W = np.ones((len(X.columns),1))\n",
    "b = 1"
   ]
  },
  {
   "cell_type": "code",
   "execution_count": 46,
   "id": "288a375b",
   "metadata": {},
   "outputs": [
    {
     "data": {
      "text/plain": [
       "array([[1., 1.]])"
      ]
     },
     "execution_count": 46,
     "metadata": {},
     "output_type": "execute_result"
    }
   ],
   "source": [
    "np.transpose(W)"
   ]
  },
  {
   "cell_type": "code",
   "execution_count": 47,
   "id": "ff8fe33c",
   "metadata": {},
   "outputs": [],
   "source": [
    "#given x,w predict the value of y\n",
    "def prediction(X, W, b):\n",
    "    weighted_sum = np.dot(X,W)+b\n",
    "    return sigmoid(weighted_sum)"
   ]
  },
  {
   "cell_type": "code",
   "execution_count": 48,
   "id": "89043635",
   "metadata": {},
   "outputs": [
    {
     "data": {
      "text/plain": [
       "array([0.92201176])"
      ]
     },
     "execution_count": 48,
     "metadata": {},
     "output_type": "execute_result"
    }
   ],
   "source": [
    "prediction([.47,1],W,b)"
   ]
  },
  {
   "cell_type": "code",
   "execution_count": 50,
   "id": "8214f203",
   "metadata": {},
   "outputs": [],
   "source": [
    "epsilon = 1e-15\n",
    "# Binary cross entropy\n",
    "def log_loss(y,y_):\n",
    "    # handle log(0), log(1-1) these kind of cases\n",
    "    y_ = [epsilon if ele == 0 else ele for ele in y_]\n",
    "    y_ = [1-epsilon if ele == 1 else ele for ele in y_]\n",
    "    #print(y_)\n",
    "    y_ = np.array(y_)\n",
    "    return -np.mean(y*np.log(y_)+(1-y)*np.log(1-y_))"
   ]
  },
  {
   "cell_type": "code",
   "execution_count": 51,
   "id": "ac338336",
   "metadata": {},
   "outputs": [
    {
     "data": {
      "text/plain": [
       "-0.0005330649534632433"
      ]
     },
     "execution_count": 51,
     "metadata": {},
     "output_type": "execute_result"
    }
   ],
   "source": [
    "y = np.array([1,2,3])\n",
    "y_ = np.array([1,0,1])\n",
    "log_loss(y,y_)"
   ]
  },
  {
   "cell_type": "code",
   "execution_count": 54,
   "id": "6553caf6",
   "metadata": {},
   "outputs": [],
   "source": [
    "def gradient_descent(X,y,epochs =5,rate = 0.5):\n",
    "    # initialize w\n",
    "    W = np.ones(len(X.columns))\n",
    "    #print(W.shape)\n",
    "    b = 0\n",
    "    n = len(X)\n",
    "    \n",
    "    for i in range(epochs):\n",
    "        y_predicted = prediction(X,W,b)\n",
    "        #print(y_predicted)\n",
    "        \n",
    "        b_derivative = np.mean(y_predicted-y)\n",
    "        w_derivative = (1/n)*np.dot(np.transpose(X),(y_predicted-y))\n",
    "        #print(w_derivative)\n",
    "        W = W -rate * w_derivative\n",
    "        #print(W)\n",
    "        b = b - rate * b_derivative\n",
    "        loss = log_loss(y,y_predicted)\n",
    "        \n",
    "        \n",
    "        #implement accuracy\n",
    "        accuracy =1 \n",
    "        if i%50==0:\n",
    "            print(f'epoch : {i} , W : {W}, bais : {b:.4f}, loss : {loss:.4f}, accuracy : {accuracy:.4f}')\n",
    "        \n",
    "    return W,b"
   ]
  },
  {
   "cell_type": "code",
   "execution_count": 55,
   "id": "451247df",
   "metadata": {},
   "outputs": [
    {
     "name": "stdout",
     "output_type": "stream",
     "text": [
      "epoch : 0 , W : [0.97490763 0.94834813], bais : -0.1134, loss : 0.7113, accuracy : 1.0000\n",
      "epoch : 50 , W : [1.50331955 1.10838479], bais : -1.2319, loss : 0.5676, accuracy : 1.0000\n",
      "epoch : 100 , W : [2.20071313 1.2941584 ], bais : -1.6607, loss : 0.5391, accuracy : 1.0000\n",
      "epoch : 150 , W : [2.84957278 1.36968955], bais : -1.9861, loss : 0.5176, accuracy : 1.0000\n",
      "epoch : 200 , W : [3.44301697 1.40422186], bais : -2.2571, loss : 0.5005, accuracy : 1.0000\n",
      "epoch : 250 , W : [3.98245049 1.42391273], bais : -2.4944, loss : 0.4865, accuracy : 1.0000\n",
      "epoch : 300 , W : [4.47217952 1.43878799], bais : -2.7074, loss : 0.4751, accuracy : 1.0000\n",
      "epoch : 350 , W : [4.91724587 1.45256608], bais : -2.9012, loss : 0.4656, accuracy : 1.0000\n",
      "epoch : 400 , W : [5.32256217 1.46648101], bais : -3.0788, loss : 0.4577, accuracy : 1.0000\n",
      "epoch : 450 , W : [5.69260053 1.48081125], bais : -3.2422, loss : 0.4512, accuracy : 1.0000\n",
      "epoch : 500 , W : [6.03131497 1.49549387], bais : -3.3931, loss : 0.4456, accuracy : 1.0000\n",
      "epoch : 550 , W : [6.34215784 1.5103674 ], bais : -3.5328, loss : 0.4410, accuracy : 1.0000\n",
      "epoch : 600 , W : [6.62812981 1.52526344], bais : -3.6623, loss : 0.4370, accuracy : 1.0000\n",
      "epoch : 650 , W : [6.89183761 1.54003728], bais : -3.7827, loss : 0.4336, accuracy : 1.0000\n",
      "epoch : 700 , W : [7.13554929 1.55457466], bais : -3.8947, loss : 0.4307, accuracy : 1.0000\n",
      "epoch : 750 , W : [7.36124353 1.56878981], bais : -3.9991, loss : 0.4283, accuracy : 1.0000\n",
      "epoch : 800 , W : [7.57065213 1.58262094], bais : -4.0965, loss : 0.4261, accuracy : 1.0000\n",
      "epoch : 850 , W : [7.76529604 1.59602543], bais : -4.1875, loss : 0.4242, accuracy : 1.0000\n",
      "epoch : 900 , W : [7.94651576 1.6089757 ], bais : -4.2727, loss : 0.4226, accuracy : 1.0000\n",
      "epoch : 950 , W : [8.11549698 1.62145571], bais : -4.3525, loss : 0.4212, accuracy : 1.0000\n"
     ]
    },
    {
     "data": {
      "text/plain": [
       "(array([8.27023952, 1.63322284]), -4.425953608965704)"
      ]
     },
     "execution_count": 55,
     "metadata": {},
     "output_type": "execute_result"
    }
   ],
   "source": [
    "gradient_descent(X_train, y_train,epochs=1000)"
   ]
  },
  {
   "cell_type": "code",
   "execution_count": null,
   "id": "6052d221",
   "metadata": {},
   "outputs": [],
   "source": []
  },
  {
   "cell_type": "code",
   "execution_count": null,
   "id": "20067fcb",
   "metadata": {},
   "outputs": [],
   "source": []
  },
  {
   "cell_type": "code",
   "execution_count": null,
   "id": "20b846df",
   "metadata": {},
   "outputs": [],
   "source": []
  },
  {
   "cell_type": "code",
   "execution_count": null,
   "id": "463a7df8",
   "metadata": {},
   "outputs": [],
   "source": []
  },
  {
   "cell_type": "code",
   "execution_count": null,
   "id": "5d010255",
   "metadata": {},
   "outputs": [],
   "source": []
  }
 ],
 "metadata": {
  "kernelspec": {
   "display_name": "Python 3 (ipykernel)",
   "language": "python",
   "name": "python3"
  },
  "language_info": {
   "codemirror_mode": {
    "name": "ipython",
    "version": 3
   },
   "file_extension": ".py",
   "mimetype": "text/x-python",
   "name": "python",
   "nbconvert_exporter": "python",
   "pygments_lexer": "ipython3",
   "version": "3.9.12"
  }
 },
 "nbformat": 4,
 "nbformat_minor": 5
}
