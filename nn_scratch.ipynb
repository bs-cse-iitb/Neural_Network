{
 "cells": [
  {
   "cell_type": "code",
   "execution_count": 1,
   "id": "c8f250c3",
   "metadata": {},
   "outputs": [],
   "source": [
    "import math\n",
    "import numpy as np\n",
    "import pandas as pd\n",
    "import matplotlib.pyplot as plt"
   ]
  },
  {
   "cell_type": "code",
   "execution_count": 2,
   "id": "6d53c688",
   "metadata": {},
   "outputs": [],
   "source": [
    "path = \"insurance_data.csv\""
   ]
  },
  {
   "cell_type": "code",
   "execution_count": 3,
   "id": "bb1c7849",
   "metadata": {},
   "outputs": [
    {
     "data": {
      "text/html": [
       "<div>\n",
       "<style scoped>\n",
       "    .dataframe tbody tr th:only-of-type {\n",
       "        vertical-align: middle;\n",
       "    }\n",
       "\n",
       "    .dataframe tbody tr th {\n",
       "        vertical-align: top;\n",
       "    }\n",
       "\n",
       "    .dataframe thead th {\n",
       "        text-align: right;\n",
       "    }\n",
       "</style>\n",
       "<table border=\"1\" class=\"dataframe\">\n",
       "  <thead>\n",
       "    <tr style=\"text-align: right;\">\n",
       "      <th></th>\n",
       "      <th>age</th>\n",
       "      <th>affordibility</th>\n",
       "      <th>bought_insurance</th>\n",
       "    </tr>\n",
       "  </thead>\n",
       "  <tbody>\n",
       "    <tr>\n",
       "      <th>0</th>\n",
       "      <td>22</td>\n",
       "      <td>1</td>\n",
       "      <td>0</td>\n",
       "    </tr>\n",
       "    <tr>\n",
       "      <th>1</th>\n",
       "      <td>25</td>\n",
       "      <td>0</td>\n",
       "      <td>0</td>\n",
       "    </tr>\n",
       "    <tr>\n",
       "      <th>2</th>\n",
       "      <td>47</td>\n",
       "      <td>1</td>\n",
       "      <td>1</td>\n",
       "    </tr>\n",
       "    <tr>\n",
       "      <th>3</th>\n",
       "      <td>52</td>\n",
       "      <td>0</td>\n",
       "      <td>0</td>\n",
       "    </tr>\n",
       "    <tr>\n",
       "      <th>4</th>\n",
       "      <td>46</td>\n",
       "      <td>1</td>\n",
       "      <td>1</td>\n",
       "    </tr>\n",
       "  </tbody>\n",
       "</table>\n",
       "</div>"
      ],
      "text/plain": [
       "   age  affordibility  bought_insurance\n",
       "0   22              1                 0\n",
       "1   25              0                 0\n",
       "2   47              1                 1\n",
       "3   52              0                 0\n",
       "4   46              1                 1"
      ]
     },
     "execution_count": 3,
     "metadata": {},
     "output_type": "execute_result"
    }
   ],
   "source": [
    "data = pd.read_csv(path)\n",
    "data.head()"
   ]
  },
  {
   "cell_type": "code",
   "execution_count": 4,
   "id": "9d0eda10",
   "metadata": {},
   "outputs": [],
   "source": [
    "y = data[\"bought_insurance\"]\n",
    "X = data.drop(columns=[\"bought_insurance\"])"
   ]
  },
  {
   "cell_type": "code",
   "execution_count": 5,
   "id": "c9c96e24",
   "metadata": {},
   "outputs": [],
   "source": [
    "#feature scaling\n",
    "X[\"age\"] = X[\"age\"]/100"
   ]
  },
  {
   "cell_type": "code",
   "execution_count": 6,
   "id": "792d81d6",
   "metadata": {},
   "outputs": [],
   "source": [
    "from sklearn.model_selection import train_test_split\n",
    "X_train, X_test, y_train, y_test = train_test_split(X,y,test_size=0.2, random_state=25)"
   ]
  },
  {
   "cell_type": "code",
   "execution_count": 7,
   "id": "c0ce183b",
   "metadata": {},
   "outputs": [],
   "source": [
    "def sigmoid(x):\n",
    "    return 1 / (1 +  np.exp(-x))"
   ]
  },
  {
   "cell_type": "code",
   "execution_count": 8,
   "id": "52612107",
   "metadata": {},
   "outputs": [],
   "source": [
    "def prediction(X, W, b):\n",
    "    weighted_sum = np.dot(X,W)+b\n",
    "    return sigmoid(weighted_sum)"
   ]
  },
  {
   "cell_type": "code",
   "execution_count": 9,
   "id": "84dcb60b",
   "metadata": {},
   "outputs": [],
   "source": [
    "def prediction_0_1(y):\n",
    "    return [1 if i > 0.5 else 0 for i in y]"
   ]
  },
  {
   "cell_type": "code",
   "execution_count": 10,
   "id": "8c8eae4c",
   "metadata": {},
   "outputs": [],
   "source": [
    "# Binary cross entropy\n",
    "def log_loss(y,y_):\n",
    "    epsilon = 1e-15\n",
    "    y_ = [epsilon if ele == 0 else ele for ele in y_]\n",
    "    y_ = [1-epsilon if ele == 1 else ele for ele in y_]\n",
    "    #print(y_)\n",
    "    y_ = np.array(y_)\n",
    "    return -np.mean(y*np.log(y_)+(1-y)*np.log(1-y_))    "
   ]
  },
  {
   "cell_type": "code",
   "execution_count": 11,
   "id": "3b817335",
   "metadata": {},
   "outputs": [],
   "source": [
    "# accuracy function from scratch\n",
    "def accuracy(y,y_):\n",
    "    n = len(y)\n",
    "    correct = 0\n",
    "    for i,j in zip(y,y_):\n",
    "        if(i==j):\n",
    "            correct+=1\n",
    "    return correct/n"
   ]
  },
  {
   "cell_type": "code",
   "execution_count": 12,
   "id": "e6714106",
   "metadata": {},
   "outputs": [],
   "source": [
    "class NN:\n",
    "    def __init__(self):\n",
    "        self.W = 0\n",
    "        self.b = 0\n",
    "    def fit(self,X,y,epochs =5,rate = 0.5):\n",
    "        self.W , self.b = self.gradient_descent(X,y,epochs,rate)\n",
    "        pass\n",
    "    def predict(self,X):\n",
    "        return prediction_0_1(prediction(X,self.W,self.b))\n",
    "    def evaluate(self,X,y):\n",
    "        y_predicted = self.predict(X)\n",
    "        loss = log_loss(y,y_predicted)\n",
    "        accuracy_value = accuracy(y,y_predicted)\n",
    "        print(f'W : {self.W}, bais : {self.b:.4f}, loss : {loss:.4f}, accuracy : {accuracy_value:.4f}')\n",
    "        pass\n",
    "    def gradient_descent(self, X,y,epochs =5,rate = 0.5):\n",
    "        # initialize w\n",
    "        W = np.ones(len(X.columns))\n",
    "        #print(W.shape)\n",
    "        b = 0\n",
    "        n = len(X)\n",
    "        for i in range(epochs):\n",
    "            y_predicted = prediction(X,W,b)\n",
    "            #print(y_predicted)\n",
    "\n",
    "            b_derivative = np.mean(y_predicted-y)\n",
    "            w_derivative = (1/n)*np.dot(np.transpose(X),(y_predicted-y))\n",
    "            #print(w_derivative)\n",
    "            W = W -rate * w_derivative\n",
    "            #print(W)\n",
    "            b = b - rate * b_derivative\n",
    "            loss = log_loss(y,y_predicted)\n",
    "\n",
    "            accuracy_value = accuracy(y,prediction_0_1(y_predicted)) \n",
    "            if i%50==0:\n",
    "                print(f'epoch : {i} , W : {W}, bais : {b:.4f}, loss : {loss:.4f}, accuracy : {accuracy_value:.4f}')\n",
    "\n",
    "        return W,b"
   ]
  },
  {
   "cell_type": "code",
   "execution_count": 13,
   "id": "9026ae14",
   "metadata": {},
   "outputs": [],
   "source": [
    "model = NN()"
   ]
  },
  {
   "cell_type": "code",
   "execution_count": 14,
   "id": "6b7780f1",
   "metadata": {},
   "outputs": [
    {
     "name": "stdout",
     "output_type": "stream",
     "text": [
      "epoch : 0 , W : [0.97490763 0.94834813], bais : -0.1134, loss : 0.7113, accuracy : 0.5000\n",
      "epoch : 50 , W : [1.50331955 1.10838479], bais : -1.2319, loss : 0.5676, accuracy : 0.6818\n",
      "epoch : 100 , W : [2.20071313 1.2941584 ], bais : -1.6607, loss : 0.5391, accuracy : 0.6818\n",
      "epoch : 150 , W : [2.84957278 1.36968955], bais : -1.9861, loss : 0.5176, accuracy : 0.7727\n",
      "epoch : 200 , W : [3.44301697 1.40422186], bais : -2.2571, loss : 0.5005, accuracy : 0.8636\n",
      "epoch : 250 , W : [3.98245049 1.42391273], bais : -2.4944, loss : 0.4865, accuracy : 0.8636\n",
      "epoch : 300 , W : [4.47217952 1.43878799], bais : -2.7074, loss : 0.4751, accuracy : 0.8636\n",
      "epoch : 350 , W : [4.91724587 1.45256608], bais : -2.9012, loss : 0.4656, accuracy : 0.9091\n",
      "epoch : 400 , W : [5.32256217 1.46648101], bais : -3.0788, loss : 0.4577, accuracy : 0.9091\n",
      "epoch : 450 , W : [5.69260053 1.48081125], bais : -3.2422, loss : 0.4512, accuracy : 0.9091\n"
     ]
    }
   ],
   "source": [
    "model.fit(X_train,y_train,epochs =500)"
   ]
  },
  {
   "cell_type": "code",
   "execution_count": 15,
   "id": "c02338df",
   "metadata": {},
   "outputs": [
    {
     "data": {
      "text/plain": [
       "[0, 0, 0, 1, 1, 0, 1, 0, 0, 0, 1, 0, 1, 1, 1, 0, 0, 1, 1, 1, 0, 1]"
      ]
     },
     "execution_count": 15,
     "metadata": {},
     "output_type": "execute_result"
    }
   ],
   "source": [
    "model.predict(X_train)"
   ]
  },
  {
   "cell_type": "code",
   "execution_count": 16,
   "id": "b7b8bfa4",
   "metadata": {},
   "outputs": [
    {
     "name": "stdout",
     "output_type": "stream",
     "text": [
      "W : [6.02482454 1.49519776], bais : -3.3902, loss : 0.0000, accuracy : 1.0000\n"
     ]
    }
   ],
   "source": [
    "model.evaluate(X_test,y_test)"
   ]
  },
  {
   "cell_type": "code",
   "execution_count": null,
   "id": "e0dffaf6",
   "metadata": {},
   "outputs": [],
   "source": []
  },
  {
   "cell_type": "code",
   "execution_count": null,
   "id": "caa4fc25",
   "metadata": {},
   "outputs": [],
   "source": []
  },
  {
   "cell_type": "code",
   "execution_count": null,
   "id": "9028ec03",
   "metadata": {},
   "outputs": [],
   "source": []
  }
 ],
 "metadata": {
  "kernelspec": {
   "display_name": "Python 3 (ipykernel)",
   "language": "python",
   "name": "python3"
  },
  "language_info": {
   "codemirror_mode": {
    "name": "ipython",
    "version": 3
   },
   "file_extension": ".py",
   "mimetype": "text/x-python",
   "name": "python",
   "nbconvert_exporter": "python",
   "pygments_lexer": "ipython3",
   "version": "3.9.12"
  }
 },
 "nbformat": 4,
 "nbformat_minor": 5
}
