{
 "cells": [
  {
   "cell_type": "code",
   "execution_count": 73,
   "id": "20deaf10",
   "metadata": {},
   "outputs": [],
   "source": [
    "import numpy as np\n",
    "# mean absolute error\n",
    "import numpy as np\n",
    "def mae(y_predicted, y_actual):\n",
    "    return (sum(abs(y_predicted - y_actual))/len(y_actual))"
   ]
  },
  {
   "cell_type": "code",
   "execution_count": null,
   "id": "661ee50a",
   "metadata": {},
   "outputs": [],
   "source": []
  },
  {
   "cell_type": "code",
   "execution_count": 74,
   "id": "80ed714a",
   "metadata": {},
   "outputs": [],
   "source": [
    "# mean squared error\n",
    "def mse(y_predicted, y_actual):\n",
    "    size = len(y_actual)\n",
    "    sum1=0\n",
    "    for i in range(size):\n",
    "        sum1 += (y_predicted[i] - y_actual[i])**2\n",
    "    return sum1/size"
   ]
  },
  {
   "cell_type": "code",
   "execution_count": null,
   "id": "011aa66a",
   "metadata": {},
   "outputs": [],
   "source": []
  },
  {
   "cell_type": "code",
   "execution_count": 75,
   "id": "23f81f4d",
   "metadata": {},
   "outputs": [],
   "source": [
    "# log loss error\n",
    "# Binary cross entropy\n",
    "def log_loss(y,y_):\n",
    "    epsilon = 1e-15\n",
    "    y_ = [epsilon if ele == 0 else ele for ele in y_]\n",
    "    y_ = [1-epsilon if ele == 1 else ele for ele in y_]\n",
    "    #print(y_)\n",
    "    y_ = np.array(y_)\n",
    "    return -np.mean(y*np.log(y_)+(1-y)*np.log(1-y_))    "
   ]
  },
  {
   "cell_type": "code",
   "execution_count": null,
   "id": "711ce262",
   "metadata": {},
   "outputs": [],
   "source": []
  },
  {
   "cell_type": "code",
   "execution_count": 76,
   "id": "affa49e1",
   "metadata": {},
   "outputs": [],
   "source": [
    "y = np.array([1,0,0,1])\n",
    "y_ = np.array([1,0,0,0])"
   ]
  },
  {
   "cell_type": "code",
   "execution_count": 77,
   "id": "19782ce5",
   "metadata": {},
   "outputs": [
    {
     "data": {
      "text/plain": [
       "0.25"
      ]
     },
     "execution_count": 77,
     "metadata": {},
     "output_type": "execute_result"
    }
   ],
   "source": [
    "mae(y_,y)"
   ]
  },
  {
   "cell_type": "code",
   "execution_count": 78,
   "id": "05ab9bb0",
   "metadata": {},
   "outputs": [
    {
     "data": {
      "text/plain": [
       "0.25"
      ]
     },
     "execution_count": 78,
     "metadata": {},
     "output_type": "execute_result"
    }
   ],
   "source": [
    "mse(y_,y)"
   ]
  },
  {
   "cell_type": "code",
   "execution_count": 79,
   "id": "faa513e2",
   "metadata": {},
   "outputs": [
    {
     "data": {
      "text/plain": [
       "8.63489399808522"
      ]
     },
     "execution_count": 79,
     "metadata": {},
     "output_type": "execute_result"
    }
   ],
   "source": [
    "log_loss(y_,y)"
   ]
  },
  {
   "cell_type": "code",
   "execution_count": null,
   "id": "cc715872",
   "metadata": {},
   "outputs": [],
   "source": []
  }
 ],
 "metadata": {
  "kernelspec": {
   "display_name": "Python 3 (ipykernel)",
   "language": "python",
   "name": "python3"
  },
  "language_info": {
   "codemirror_mode": {
    "name": "ipython",
    "version": 3
   },
   "file_extension": ".py",
   "mimetype": "text/x-python",
   "name": "python",
   "nbconvert_exporter": "python",
   "pygments_lexer": "ipython3",
   "version": "3.9.12"
  }
 },
 "nbformat": 4,
 "nbformat_minor": 5
}
