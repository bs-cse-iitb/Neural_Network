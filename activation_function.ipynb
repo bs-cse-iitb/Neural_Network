{
 "cells": [
  {
   "cell_type": "code",
   "execution_count": 9,
   "id": "c6890a87",
   "metadata": {},
   "outputs": [],
   "source": [
    "import math"
   ]
  },
  {
   "cell_type": "code",
   "execution_count": 43,
   "id": "82befd80",
   "metadata": {},
   "outputs": [],
   "source": [
    "# Sigmiod\n",
    "def sigmoid(x):\n",
    "    return(1 /(1+math.exp(-x))) "
   ]
  },
  {
   "cell_type": "code",
   "execution_count": 44,
   "id": "f68dc68a",
   "metadata": {},
   "outputs": [],
   "source": [
    "# tanh\n",
    "def tanh(x):\n",
    "    return ((math.exp(x)-math.exp(-x)) /(math.exp(x)+math.exp(-x))) "
   ]
  },
  {
   "cell_type": "code",
   "execution_count": 45,
   "id": "00c33a53",
   "metadata": {},
   "outputs": [],
   "source": [
    "# relu\n",
    "def relu(x):\n",
    "    if x<0: return 0\n",
    "    else: return x"
   ]
  },
  {
   "cell_type": "code",
   "execution_count": 46,
   "id": "2e88ceb1",
   "metadata": {},
   "outputs": [],
   "source": [
    "# leaky_realu\n",
    "def leaky_relu(x):\n",
    "    if x<0: return 0.1*x\n",
    "    else: return x"
   ]
  },
  {
   "cell_type": "code",
   "execution_count": 47,
   "id": "c7d08d84",
   "metadata": {},
   "outputs": [
    {
     "data": {
      "text/plain": [
       "1.0"
      ]
     },
     "execution_count": 47,
     "metadata": {},
     "output_type": "execute_result"
    }
   ],
   "source": [
    "sigmoid(100)"
   ]
  },
  {
   "cell_type": "code",
   "execution_count": 48,
   "id": "2b20dd78",
   "metadata": {},
   "outputs": [
    {
     "data": {
      "text/plain": [
       "0"
      ]
     },
     "execution_count": 48,
     "metadata": {},
     "output_type": "execute_result"
    }
   ],
   "source": [
    "relu(0)"
   ]
  },
  {
   "cell_type": "code",
   "execution_count": 49,
   "id": "c2dd8dab",
   "metadata": {},
   "outputs": [
    {
     "data": {
      "text/plain": [
       "-1.0"
      ]
     },
     "execution_count": 49,
     "metadata": {},
     "output_type": "execute_result"
    }
   ],
   "source": [
    "leaky_relu(-10)"
   ]
  },
  {
   "cell_type": "code",
   "execution_count": 50,
   "id": "fde82042",
   "metadata": {},
   "outputs": [
    {
     "data": {
      "text/plain": [
       "1.0"
      ]
     },
     "execution_count": 50,
     "metadata": {},
     "output_type": "execute_result"
    }
   ],
   "source": [
    "tanh(50)"
   ]
  },
  {
   "cell_type": "code",
   "execution_count": null,
   "id": "fb34dbfe",
   "metadata": {},
   "outputs": [],
   "source": []
  },
  {
   "cell_type": "code",
   "execution_count": null,
   "id": "8d1b9fe3",
   "metadata": {},
   "outputs": [],
   "source": []
  },
  {
   "cell_type": "code",
   "execution_count": null,
   "id": "8917bd46",
   "metadata": {},
   "outputs": [],
   "source": []
  }
 ],
 "metadata": {
  "kernelspec": {
   "display_name": "Python 3 (ipykernel)",
   "language": "python",
   "name": "python3"
  },
  "language_info": {
   "codemirror_mode": {
    "name": "ipython",
    "version": 3
   },
   "file_extension": ".py",
   "mimetype": "text/x-python",
   "name": "python",
   "nbconvert_exporter": "python",
   "pygments_lexer": "ipython3",
   "version": "3.9.12"
  }
 },
 "nbformat": 4,
 "nbformat_minor": 5
}
